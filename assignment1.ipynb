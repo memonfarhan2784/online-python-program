{
  "nbformat": 4,
  "nbformat_minor": 0,
  "metadata": {
    "colab": {
      "name": "Untitled0.ipynb",
      "provenance": []
    },
    "kernelspec": {
      "name": "python3",
      "display_name": "Python 3"
    },
    "language_info": {
      "name": "python"
    }
  },
  "cells": [
    {
      "cell_type": "markdown",
      "source": [
        "# **Farhan Ali Memon**"
      ],
      "metadata": {
        "id": "qq-3-FnQ7xNd"
      }
    },
    {
      "cell_type": "markdown",
      "source": [
        "**1. write a progrma to print the following string in specific format**"
      ],
      "metadata": {
        "id": "tQDfZlC39rlf"
      }
    },
    {
      "cell_type": "code",
      "source": [
        "print(\"Twinkle, Twinkle, little star, \\n \\t how i wonder what you are! \\n \\t \\t up above the world so high, \\n \\t \\t like a diamond in the sky. \\nTwinkle, Twinkle, little star, \\n \\t how i wonder what you are!\")"
      ],
      "metadata": {
        "colab": {
          "base_uri": "https://localhost:8080/"
        },
        "id": "2ihjCOXo41NJ",
        "outputId": "e71b7b36-15e7-42c6-af09-63b05974e774"
      },
      "execution_count": 14,
      "outputs": [
        {
          "output_type": "stream",
          "name": "stdout",
          "text": [
            "Twinkle, Twinkle, little star, \n",
            " \t how i wonder what you are! \n",
            " \t \t up above the world so high, \n",
            " \t \t like a diamond in the sky. \n",
            "Twinkle, Twinkle, little star, \n",
            " \t how i wonder what you are!\n"
          ]
        }
      ]
    },
    {
      "cell_type": "markdown",
      "source": [
        "**2. write a python program to get the python version you are using:**"
      ],
      "metadata": {
        "id": "QUwkEi7z1W68"
      }
    },
    {
      "cell_type": "code",
      "execution_count": 15,
      "metadata": {
        "colab": {
          "base_uri": "https://localhost:8080/"
        },
        "id": "g5xK-UjQz-lr",
        "outputId": "a4537546-b80f-4de2-c450-e8ed196a15eb"
      },
      "outputs": [
        {
          "output_type": "stream",
          "name": "stdout",
          "text": [
            "Python version\n",
            "3.7.12 (default, Sep 10 2021, 00:21:48) \n",
            "[GCC 7.5.0]\n"
          ]
        }
      ],
      "source": [
        "import sys\n",
        "print(\"Python version\")\n",
        "print (sys.version)"
      ]
    },
    {
      "cell_type": "markdown",
      "source": [
        "**3. write a python program to display current date and time:**"
      ],
      "metadata": {
        "id": "vENNB4v22cmz"
      }
    },
    {
      "cell_type": "code",
      "source": [
        "import datetime\n",
        "now = datetime.datetime.now()\n",
        "print (\"Current date and time : \")\n",
        "print (now.strftime(\"%Y-%m-%d %H:%M:%S\"))"
      ],
      "metadata": {
        "colab": {
          "base_uri": "https://localhost:8080/"
        },
        "id": "0sqbqMUI0SjG",
        "outputId": "622b4f73-ee8c-461c-add5-4f3c4e87143d"
      },
      "execution_count": 16,
      "outputs": [
        {
          "output_type": "stream",
          "name": "stdout",
          "text": [
            "Current date and time : \n",
            "2022-01-01 18:47:09\n"
          ]
        }
      ]
    },
    {
      "cell_type": "markdown",
      "source": [
        "**4. write a python program which accepts the radious of a circle from a user and compute the area:**"
      ],
      "metadata": {
        "id": "xrSqOAtL2oOu"
      }
    },
    {
      "cell_type": "code",
      "source": [
        "PI = 3.14\n",
        "r = float(input(\"Enter the radius of the circle: \"))\n",
        "area = PI * r * r\n",
        "print(\"%.2f\" %area)"
      ],
      "metadata": {
        "colab": {
          "base_uri": "https://localhost:8080/"
        },
        "id": "axo4H5qG3J6X",
        "outputId": "29b21b18-f6f7-4a73-9f1a-13ac5b330665"
      },
      "execution_count": 7,
      "outputs": [
        {
          "output_type": "stream",
          "name": "stdout",
          "text": [
            "Enter the radius of the circle: 3\n",
            "28.26\n"
          ]
        }
      ]
    },
    {
      "cell_type": "markdown",
      "source": [
        "**5. write a python program wich accepts the user's first and last name and print them in reverse order with space between them:**"
      ],
      "metadata": {
        "id": "lDEez3Pb5Fbq"
      }
    },
    {
      "cell_type": "code",
      "source": [
        "fName = input(\"Enter first name : \")\n",
        "lName = input(\"Enter last name : \")\n",
        "print(lName + \" \"+ fName)"
      ],
      "metadata": {
        "colab": {
          "base_uri": "https://localhost:8080/"
        },
        "id": "fGdJXAwH5FFu",
        "outputId": "ed787188-88c4-4a51-def7-d61d48277541"
      },
      "execution_count": 8,
      "outputs": [
        {
          "output_type": "stream",
          "name": "stdout",
          "text": [
            "Enter first name : farhan\n",
            "Enter last name : ali\n",
            "ali farhan\n"
          ]
        }
      ]
    },
    {
      "cell_type": "markdown",
      "source": [
        "**6. write a python program which takes two imputs from user and print there addition:\n",
        " (if there are numbers python adds them and if there are strings python concatenates them)**"
      ],
      "metadata": {
        "id": "Sd98RTR76bs1"
      }
    },
    {
      "cell_type": "code",
      "source": [
        "num1 = input('Enter first number: ')\n",
        "num2 = input('Enter second number: ')\n",
        "print(float(num1) + float(num2))"
      ],
      "metadata": {
        "colab": {
          "base_uri": "https://localhost:8080/"
        },
        "id": "5bj5CBBC4jRb",
        "outputId": "41a3389c-ff0e-4c83-c373-c966cbb44aa2"
      },
      "execution_count": 10,
      "outputs": [
        {
          "output_type": "stream",
          "name": "stdout",
          "text": [
            "Enter first number: 3\n",
            "Enter second number: 7\n",
            "10.0\n"
          ]
        }
      ]
    }
  ]
}